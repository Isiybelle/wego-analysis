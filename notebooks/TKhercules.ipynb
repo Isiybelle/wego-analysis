{
 "cells": [
  {
   "cell_type": "code",
   "execution_count": 1,
   "id": "4f2ebe5d-1ac8-4ee7-bac6-4a9b37b5ae91",
   "metadata": {},
   "outputs": [],
   "source": [
    "import numpy as np\n",
    "import pandas as pd\n",
    "import matplotlib.pyplot as plt\n",
    "import seaborn as sns"
   ]
  },
  {
   "cell_type": "code",
   "execution_count": 2,
   "id": "9a7c6331-7de7-4ed9-a02b-6197a49b3654",
   "metadata": {},
   "outputs": [],
   "source": [
    "wego = pd.read_csv(\"../data/Headway Data, 8-1-2023 to 9-30-2023.csv \")"
   ]
  },
  {
   "cell_type": "code",
   "execution_count": 3,
   "id": "3783e86e-54e9-4a45-840a-079e167e8275",
   "metadata": {},
   "outputs": [],
   "source": [
    "pd.set_option('display.max_columns', None)"
   ]
  },
  {
   "cell_type": "code",
   "execution_count": 4,
   "id": "10c0b00d-8a39-4417-9a8b-03cfe0c287cf",
   "metadata": {},
   "outputs": [],
   "source": [
    "#What is the overall on-time performance"
   ]
  },
  {
   "cell_type": "code",
   "execution_count": 5,
   "id": "43cc1f08-3d1a-430b-84c3-84b7937b6eeb",
   "metadata": {},
   "outputs": [
    {
     "data": {
      "text/plain": [
       "338861"
      ]
     },
     "execution_count": 5,
     "metadata": {},
     "output_type": "execute_result"
    }
   ],
   "source": [
    "early = wego[\"ADJUSTED_EARLY_COUNT\"].sum()\n",
    "late = wego[\"ADJUSTED_LATE_COUNT\"].sum()\n",
    "ontime = wego[\"ADJUSTED_ONTIME_COUNT\"].sum()\n",
    "total = early + late + ontime\n",
    "total"
   ]
  },
  {
   "cell_type": "code",
   "execution_count": 6,
   "id": "c5ae6524-1083-4b88-90a1-1556f9fa08d8",
   "metadata": {},
   "outputs": [
    {
     "data": {
      "text/plain": [
       "(350329, 30)"
      ]
     },
     "execution_count": 6,
     "metadata": {},
     "output_type": "execute_result"
    }
   ],
   "source": [
    "wego.shape"
   ]
  },
  {
   "cell_type": "code",
   "execution_count": 7,
   "id": "cfc5d8ad-cc32-45a5-af57-596e3264a7c2",
   "metadata": {},
   "outputs": [
    {
     "data": {
      "text/plain": [
       "79.69"
      ]
     },
     "execution_count": 7,
     "metadata": {},
     "output_type": "execute_result"
    }
   ],
   "source": [
    "ontimepercent = round ((ontime / total)* 100, 2)   \n",
    "ontimepercent"
   ]
  },
  {
   "cell_type": "code",
   "execution_count": 8,
   "id": "4b72ac0d-3757-4d32-8da9-b3abff326c93",
   "metadata": {},
   "outputs": [
    {
     "data": {
      "text/plain": [
       "2.88"
      ]
     },
     "execution_count": 8,
     "metadata": {},
     "output_type": "execute_result"
    }
   ],
   "source": [
    "earlypercent = round ((early / total)* 100, 2)  \n",
    "earlypercent"
   ]
  },
  {
   "cell_type": "code",
   "execution_count": 9,
   "id": "8b724ce1-9f8c-4a58-91d7-1a2727f8ef92",
   "metadata": {},
   "outputs": [
    {
     "data": {
      "text/plain": [
       "17.42"
      ]
     },
     "execution_count": 9,
     "metadata": {},
     "output_type": "execute_result"
    }
   ],
   "source": [
    "latepercent = round ((late / total)* 100, 2)  \n",
    "latepercent"
   ]
  },
  {
   "cell_type": "code",
   "execution_count": 10,
   "id": "1628a7f2-a9b3-4e7b-89cf-5abfdd42fed6",
   "metadata": {},
   "outputs": [],
   "source": [
    "#below is Isabelle's\n",
    "#Isabelle's looks to be more accurate"
   ]
  },
  {
   "cell_type": "code",
   "execution_count": 11,
   "id": "10758003-7d66-4f42-b100-ce9d8d667838",
   "metadata": {},
   "outputs": [
    {
     "data": {
      "text/plain": [
       "77.08"
      ]
     },
     "execution_count": 11,
     "metadata": {},
     "output_type": "execute_result"
    }
   ],
   "source": [
    "on_time_performance = wego.loc[wego['ADJUSTED_ONTIME_COUNT'] == 1]\n",
    "#on_time_performance = on_time_performance.loc[on_time_performance['TRIP_EDGE'] !=2]\n",
    "on_time_performance = round((len(on_time_performance) / len(wego)) * 100, 2)\n",
    "on_time_performance"
   ]
  },
  {
   "cell_type": "code",
   "execution_count": 12,
   "id": "e28cd50e-bfc5-4e76-b141-7f016973765a",
   "metadata": {},
   "outputs": [],
   "source": [
    "#what do the overall distribution of adherence look like?"
   ]
  },
  {
   "cell_type": "code",
   "execution_count": 13,
   "id": "e08ddfcf-cf7f-44cf-8524-621745f55dba",
   "metadata": {},
   "outputs": [
    {
     "data": {
      "text/plain": [
       "array([22, 23,  3,  7, 50, 52, 55, 56], dtype=int64)"
      ]
     },
     "execution_count": 13,
     "metadata": {},
     "output_type": "execute_result"
    }
   ],
   "source": [
    "wego['ROUTE_ABBR'].unique()"
   ]
  },
  {
   "cell_type": "code",
   "execution_count": 14,
   "id": "29ad433a-a213-4cba-857d-d3ab93937257",
   "metadata": {},
   "outputs": [
    {
     "name": "stdout",
     "output_type": "stream",
     "text": [
      "ROUTE_ABBR\n",
      "3    -3.761491\n",
      "7    -3.346555\n",
      "22   -1.138107\n",
      "23   -1.760110\n",
      "50   -2.505022\n",
      "52   -3.971342\n",
      "55   -4.823302\n",
      "56   -2.703988\n",
      "Name: ADHERENCE, dtype: float64\n"
     ]
    }
   ],
   "source": [
    "#routes = [3, 7, 22, 23, 50, 52, 53, 55, 56]\n",
    "#filtering = wego[wego['ROUTE_ABBR'].isin(routes)]\n",
    "route_totals = wego.groupby('ROUTE_ABBR')['ADHERENCE'].mean()\n",
    "print(route_totals)"
   ]
  },
  {
   "cell_type": "code",
   "execution_count": 15,
   "id": "dbc34ff4-0096-45dd-8a80-b11acb00ace7",
   "metadata": {},
   "outputs": [],
   "source": [
    "#How does direction of travel, route, or location affect the on-time performance?"
   ]
  },
  {
   "cell_type": "code",
   "execution_count": 16,
   "id": "62da37cd-628c-4ded-89c1-cb1685ebc4fb",
   "metadata": {},
   "outputs": [],
   "source": [
    "#used same code as Jacob for finding adherance distribution "
   ]
  },
  {
   "cell_type": "code",
   "execution_count": 17,
   "id": "32d53a3d-3b8a-4970-8d33-a599e1facc99",
   "metadata": {},
   "outputs": [
    {
     "data": {
      "text/plain": [
       "array(['TO DOWNTOWN', 'FROM DOWNTOWN'], dtype=object)"
      ]
     },
     "execution_count": 17,
     "metadata": {},
     "output_type": "execute_result"
    }
   ],
   "source": [
    "wego['ROUTE_DIRECTION_NAME'].unique()"
   ]
  },
  {
   "cell_type": "code",
   "execution_count": 18,
   "id": "e1a3cbdd-4636-403a-97fe-23f6d60a77de",
   "metadata": {},
   "outputs": [
    {
     "name": "stdout",
     "output_type": "stream",
     "text": [
      "ROUTE_DIRECTION_NAME\n",
      "FROM DOWNTOWN   -3.960287\n",
      "TO DOWNTOWN     -2.321804\n",
      "Name: ADHERENCE, dtype: float64\n"
     ]
    }
   ],
   "source": [
    "direction = ['TO DOWNTOWN', 'FROM DOWNTOWN']\n",
    "filteringdirection = wego[wego['ROUTE_DIRECTION_NAME'].isin(direction)]\n",
    "direction_totals = filteringdirection.groupby('ROUTE_DIRECTION_NAME')['ADHERENCE'].mean()\n",
    "print(direction_totals)"
   ]
  },
  {
   "cell_type": "code",
   "execution_count": 19,
   "id": "42193230-57c1-446b-a79d-15bb1bb6b484",
   "metadata": {},
   "outputs": [],
   "source": [
    "#tried simple code for direction of travel affect on on-time performance "
   ]
  },
  {
   "cell_type": "code",
   "execution_count": 20,
   "id": "a9de89e9-6f20-48f4-90ea-057f2d8274df",
   "metadata": {},
   "outputs": [
    {
     "data": {
      "text/plain": [
       "ROUTE_DIRECTION_NAME\n",
       "FROM DOWNTOWN    38.0\n",
       "TO DOWNTOWN      39.0\n",
       "Name: ADJUSTED_ONTIME_COUNT, dtype: float64"
      ]
     },
     "execution_count": 20,
     "metadata": {},
     "output_type": "execute_result"
    }
   ],
   "source": [
    "ontime_by_direction = round((wego.groupby('ROUTE_DIRECTION_NAME')['ADJUSTED_ONTIME_COUNT'].sum()/len(wego))*100)      \n",
    "ontime_by_direction"
   ]
  },
  {
   "cell_type": "code",
   "execution_count": 21,
   "id": "769320e4-b282-4e1a-bddb-a3cd861d7120",
   "metadata": {},
   "outputs": [
    {
     "data": {
      "text/plain": [
       "ROUTE_DIRECTION_NAME\n",
       "FROM DOWNTOWN    2.0\n",
       "TO DOWNTOWN      1.0\n",
       "Name: ADJUSTED_EARLY_COUNT, dtype: float64"
      ]
     },
     "execution_count": 21,
     "metadata": {},
     "output_type": "execute_result"
    }
   ],
   "source": [
    "early_by_direction = round((wego.groupby('ROUTE_DIRECTION_NAME')['ADJUSTED_EARLY_COUNT'].sum()/total)*100)\n",
    "early_by_direction"
   ]
  },
  {
   "cell_type": "code",
   "execution_count": 22,
   "id": "bf0c7284-e4b8-4b65-93c9-a7472e52c654",
   "metadata": {},
   "outputs": [
    {
     "data": {
      "text/plain": [
       "ROUTE_DIRECTION_NAME\n",
       "FROM DOWNTOWN    12.0\n",
       "TO DOWNTOWN       6.0\n",
       "Name: ADJUSTED_LATE_COUNT, dtype: float64"
      ]
     },
     "execution_count": 22,
     "metadata": {},
     "output_type": "execute_result"
    }
   ],
   "source": [
    "late_by_direction = round((wego.groupby('ROUTE_DIRECTION_NAME')['ADJUSTED_LATE_COUNT'].sum()/total)*100)\n",
    "late_by_direction"
   ]
  },
  {
   "cell_type": "code",
   "execution_count": 23,
   "id": "4f8bd496-37f4-4b9d-b3c6-5cea537493d0",
   "metadata": {},
   "outputs": [
    {
     "data": {
      "text/plain": [
       "ROUTE_DIRECTION_NAME\n",
       "FROM DOWNTOWN    52.0\n",
       "TO DOWNTOWN      46.0\n",
       "dtype: float64"
      ]
     },
     "execution_count": 23,
     "metadata": {},
     "output_type": "execute_result"
    }
   ],
   "source": [
    "directiontotal = (ontime_by_direction + early_by_direction + late_by_direction)\n",
    "directiontotal"
   ]
  },
  {
   "cell_type": "code",
   "execution_count": 24,
   "id": "72162b36-babd-470a-920f-6d78289823e7",
   "metadata": {},
   "outputs": [
    {
     "data": {
      "text/plain": [
       "ROUTE_DIRECTION_NAME\n",
       "FROM DOWNTOWN    0.730769\n",
       "TO DOWNTOWN      0.847826\n",
       "dtype: float64"
      ]
     },
     "execution_count": 24,
     "metadata": {},
     "output_type": "execute_result"
    }
   ],
   "source": [
    "ontimebydirection = ontime_by_direction / directiontotal\n",
    "ontimebydirection"
   ]
  },
  {
   "cell_type": "code",
   "execution_count": 25,
   "id": "bbd934a7-98cd-4068-a229-158626dd9aef",
   "metadata": {},
   "outputs": [],
   "source": [
    "# route, or location affect the on-time performance?"
   ]
  },
  {
   "cell_type": "code",
   "execution_count": 26,
   "id": "256fd0ab-a4f1-4435-9cd8-034ace3cb9c6",
   "metadata": {},
   "outputs": [
    {
     "data": {
      "text/html": [
       "<div>\n",
       "<style scoped>\n",
       "    .dataframe tbody tr th:only-of-type {\n",
       "        vertical-align: middle;\n",
       "    }\n",
       "\n",
       "    .dataframe tbody tr th {\n",
       "        vertical-align: top;\n",
       "    }\n",
       "\n",
       "    .dataframe thead th {\n",
       "        text-align: right;\n",
       "    }\n",
       "</style>\n",
       "<table border=\"1\" class=\"dataframe\">\n",
       "  <thead>\n",
       "    <tr style=\"text-align: right;\">\n",
       "      <th></th>\n",
       "      <th></th>\n",
       "      <th>ADJUSTED_ONTIME_COUNT</th>\n",
       "      <th>ADJUSTED_EARLY_COUNT</th>\n",
       "      <th>ADJUSTED_LATE_COUNT</th>\n",
       "    </tr>\n",
       "    <tr>\n",
       "      <th>ROUTE_ABBR</th>\n",
       "      <th>ROUTE_DIRECTION_NAME</th>\n",
       "      <th></th>\n",
       "      <th></th>\n",
       "      <th></th>\n",
       "    </tr>\n",
       "  </thead>\n",
       "  <tbody>\n",
       "    <tr>\n",
       "      <th rowspan=\"2\" valign=\"top\">3</th>\n",
       "      <th>FROM DOWNTOWN</th>\n",
       "      <td>15447</td>\n",
       "      <td>639</td>\n",
       "      <td>6680</td>\n",
       "    </tr>\n",
       "    <tr>\n",
       "      <th>TO DOWNTOWN</th>\n",
       "      <td>19069</td>\n",
       "      <td>743</td>\n",
       "      <td>2910</td>\n",
       "    </tr>\n",
       "    <tr>\n",
       "      <th rowspan=\"2\" valign=\"top\">7</th>\n",
       "      <th>FROM DOWNTOWN</th>\n",
       "      <td>6542</td>\n",
       "      <td>298</td>\n",
       "      <td>2186</td>\n",
       "    </tr>\n",
       "    <tr>\n",
       "      <th>TO DOWNTOWN</th>\n",
       "      <td>6875</td>\n",
       "      <td>135</td>\n",
       "      <td>1231</td>\n",
       "    </tr>\n",
       "    <tr>\n",
       "      <th rowspan=\"2\" valign=\"top\">22</th>\n",
       "      <th>FROM DOWNTOWN</th>\n",
       "      <td>11008</td>\n",
       "      <td>373</td>\n",
       "      <td>1538</td>\n",
       "    </tr>\n",
       "    <tr>\n",
       "      <th>TO DOWNTOWN</th>\n",
       "      <td>11484</td>\n",
       "      <td>258</td>\n",
       "      <td>527</td>\n",
       "    </tr>\n",
       "    <tr>\n",
       "      <th rowspan=\"2\" valign=\"top\">23</th>\n",
       "      <th>FROM DOWNTOWN</th>\n",
       "      <td>20646</td>\n",
       "      <td>629</td>\n",
       "      <td>2496</td>\n",
       "    </tr>\n",
       "    <tr>\n",
       "      <th>TO DOWNTOWN</th>\n",
       "      <td>14491</td>\n",
       "      <td>657</td>\n",
       "      <td>734</td>\n",
       "    </tr>\n",
       "    <tr>\n",
       "      <th rowspan=\"2\" valign=\"top\">50</th>\n",
       "      <th>FROM DOWNTOWN</th>\n",
       "      <td>17788</td>\n",
       "      <td>661</td>\n",
       "      <td>2803</td>\n",
       "    </tr>\n",
       "    <tr>\n",
       "      <th>TO DOWNTOWN</th>\n",
       "      <td>18521</td>\n",
       "      <td>546</td>\n",
       "      <td>2310</td>\n",
       "    </tr>\n",
       "    <tr>\n",
       "      <th rowspan=\"2\" valign=\"top\">52</th>\n",
       "      <th>FROM DOWNTOWN</th>\n",
       "      <td>17399</td>\n",
       "      <td>882</td>\n",
       "      <td>7092</td>\n",
       "    </tr>\n",
       "    <tr>\n",
       "      <th>TO DOWNTOWN</th>\n",
       "      <td>20337</td>\n",
       "      <td>671</td>\n",
       "      <td>2946</td>\n",
       "    </tr>\n",
       "    <tr>\n",
       "      <th rowspan=\"2\" valign=\"top\">55</th>\n",
       "      <th>FROM DOWNTOWN</th>\n",
       "      <td>19233</td>\n",
       "      <td>803</td>\n",
       "      <td>9843</td>\n",
       "    </tr>\n",
       "    <tr>\n",
       "      <th>TO DOWNTOWN</th>\n",
       "      <td>22847</td>\n",
       "      <td>728</td>\n",
       "      <td>6905</td>\n",
       "    </tr>\n",
       "    <tr>\n",
       "      <th rowspan=\"2\" valign=\"top\">56</th>\n",
       "      <th>FROM DOWNTOWN</th>\n",
       "      <td>26351</td>\n",
       "      <td>1006</td>\n",
       "      <td>6963</td>\n",
       "    </tr>\n",
       "    <tr>\n",
       "      <th>TO DOWNTOWN</th>\n",
       "      <td>22010</td>\n",
       "      <td>746</td>\n",
       "      <td>1874</td>\n",
       "    </tr>\n",
       "  </tbody>\n",
       "</table>\n",
       "</div>"
      ],
      "text/plain": [
       "                                 ADJUSTED_ONTIME_COUNT  ADJUSTED_EARLY_COUNT  \\\n",
       "ROUTE_ABBR ROUTE_DIRECTION_NAME                                                \n",
       "3          FROM DOWNTOWN                         15447                   639   \n",
       "           TO DOWNTOWN                           19069                   743   \n",
       "7          FROM DOWNTOWN                          6542                   298   \n",
       "           TO DOWNTOWN                            6875                   135   \n",
       "22         FROM DOWNTOWN                         11008                   373   \n",
       "           TO DOWNTOWN                           11484                   258   \n",
       "23         FROM DOWNTOWN                         20646                   629   \n",
       "           TO DOWNTOWN                           14491                   657   \n",
       "50         FROM DOWNTOWN                         17788                   661   \n",
       "           TO DOWNTOWN                           18521                   546   \n",
       "52         FROM DOWNTOWN                         17399                   882   \n",
       "           TO DOWNTOWN                           20337                   671   \n",
       "55         FROM DOWNTOWN                         19233                   803   \n",
       "           TO DOWNTOWN                           22847                   728   \n",
       "56         FROM DOWNTOWN                         26351                  1006   \n",
       "           TO DOWNTOWN                           22010                   746   \n",
       "\n",
       "                                 ADJUSTED_LATE_COUNT  \n",
       "ROUTE_ABBR ROUTE_DIRECTION_NAME                       \n",
       "3          FROM DOWNTOWN                        6680  \n",
       "           TO DOWNTOWN                          2910  \n",
       "7          FROM DOWNTOWN                        2186  \n",
       "           TO DOWNTOWN                          1231  \n",
       "22         FROM DOWNTOWN                        1538  \n",
       "           TO DOWNTOWN                           527  \n",
       "23         FROM DOWNTOWN                        2496  \n",
       "           TO DOWNTOWN                           734  \n",
       "50         FROM DOWNTOWN                        2803  \n",
       "           TO DOWNTOWN                          2310  \n",
       "52         FROM DOWNTOWN                        7092  \n",
       "           TO DOWNTOWN                          2946  \n",
       "55         FROM DOWNTOWN                        9843  \n",
       "           TO DOWNTOWN                          6905  \n",
       "56         FROM DOWNTOWN                        6963  \n",
       "           TO DOWNTOWN                          1874  "
      ]
     },
     "execution_count": 26,
     "metadata": {},
     "output_type": "execute_result"
    }
   ],
   "source": [
    "route = wego.groupby(['ROUTE_ABBR','ROUTE_DIRECTION_NAME']).agg({'ADJUSTED_ONTIME_COUNT': 'sum','ADJUSTED_EARLY_COUNT': 'sum',\n",
    "    'ADJUSTED_LATE_COUNT':'sum'})\n",
    "route"
   ]
  },
  {
   "cell_type": "code",
   "execution_count": 77,
   "id": "cb50428a-f4c5-4415-a69c-10cf4a5d10dd",
   "metadata": {
    "collapsed": true,
    "jupyter": {
     "outputs_hidden": true
    }
   },
   "outputs": [
    {
     "data": {
      "text/html": [
       "<div>\n",
       "<style scoped>\n",
       "    .dataframe tbody tr th:only-of-type {\n",
       "        vertical-align: middle;\n",
       "    }\n",
       "\n",
       "    .dataframe tbody tr th {\n",
       "        vertical-align: top;\n",
       "    }\n",
       "\n",
       "    .dataframe thead th {\n",
       "        text-align: right;\n",
       "    }\n",
       "</style>\n",
       "<table border=\"1\" class=\"dataframe\">\n",
       "  <thead>\n",
       "    <tr style=\"text-align: right;\">\n",
       "      <th></th>\n",
       "      <th></th>\n",
       "      <th>ADJUSTED_ONTIME_COUNT</th>\n",
       "      <th>TOTAL</th>\n",
       "      <th>OTP_PERCENT</th>\n",
       "    </tr>\n",
       "    <tr>\n",
       "      <th>ROUTE_ABBR</th>\n",
       "      <th>ROUTE_DIRECTION_NAME</th>\n",
       "      <th></th>\n",
       "      <th></th>\n",
       "      <th></th>\n",
       "    </tr>\n",
       "  </thead>\n",
       "  <tbody>\n",
       "    <tr>\n",
       "      <th rowspan=\"2\" valign=\"top\">3</th>\n",
       "      <th>FROM DOWNTOWN</th>\n",
       "      <td>15447</td>\n",
       "      <td>22766</td>\n",
       "      <td>67.85</td>\n",
       "    </tr>\n",
       "    <tr>\n",
       "      <th>TO DOWNTOWN</th>\n",
       "      <td>19069</td>\n",
       "      <td>22722</td>\n",
       "      <td>83.92</td>\n",
       "    </tr>\n",
       "    <tr>\n",
       "      <th rowspan=\"2\" valign=\"top\">7</th>\n",
       "      <th>FROM DOWNTOWN</th>\n",
       "      <td>6542</td>\n",
       "      <td>9026</td>\n",
       "      <td>72.48</td>\n",
       "    </tr>\n",
       "    <tr>\n",
       "      <th>TO DOWNTOWN</th>\n",
       "      <td>6875</td>\n",
       "      <td>8241</td>\n",
       "      <td>83.42</td>\n",
       "    </tr>\n",
       "    <tr>\n",
       "      <th rowspan=\"2\" valign=\"top\">22</th>\n",
       "      <th>FROM DOWNTOWN</th>\n",
       "      <td>11008</td>\n",
       "      <td>12919</td>\n",
       "      <td>85.21</td>\n",
       "    </tr>\n",
       "    <tr>\n",
       "      <th>TO DOWNTOWN</th>\n",
       "      <td>11484</td>\n",
       "      <td>12269</td>\n",
       "      <td>93.60</td>\n",
       "    </tr>\n",
       "    <tr>\n",
       "      <th rowspan=\"2\" valign=\"top\">23</th>\n",
       "      <th>FROM DOWNTOWN</th>\n",
       "      <td>20646</td>\n",
       "      <td>23771</td>\n",
       "      <td>86.85</td>\n",
       "    </tr>\n",
       "    <tr>\n",
       "      <th>TO DOWNTOWN</th>\n",
       "      <td>14491</td>\n",
       "      <td>15882</td>\n",
       "      <td>91.24</td>\n",
       "    </tr>\n",
       "    <tr>\n",
       "      <th rowspan=\"2\" valign=\"top\">50</th>\n",
       "      <th>FROM DOWNTOWN</th>\n",
       "      <td>17788</td>\n",
       "      <td>21252</td>\n",
       "      <td>83.70</td>\n",
       "    </tr>\n",
       "    <tr>\n",
       "      <th>TO DOWNTOWN</th>\n",
       "      <td>18521</td>\n",
       "      <td>21377</td>\n",
       "      <td>86.64</td>\n",
       "    </tr>\n",
       "    <tr>\n",
       "      <th rowspan=\"2\" valign=\"top\">52</th>\n",
       "      <th>FROM DOWNTOWN</th>\n",
       "      <td>17399</td>\n",
       "      <td>25373</td>\n",
       "      <td>68.57</td>\n",
       "    </tr>\n",
       "    <tr>\n",
       "      <th>TO DOWNTOWN</th>\n",
       "      <td>20337</td>\n",
       "      <td>23954</td>\n",
       "      <td>84.90</td>\n",
       "    </tr>\n",
       "    <tr>\n",
       "      <th rowspan=\"2\" valign=\"top\">55</th>\n",
       "      <th>FROM DOWNTOWN</th>\n",
       "      <td>19233</td>\n",
       "      <td>29879</td>\n",
       "      <td>64.37</td>\n",
       "    </tr>\n",
       "    <tr>\n",
       "      <th>TO DOWNTOWN</th>\n",
       "      <td>22847</td>\n",
       "      <td>30480</td>\n",
       "      <td>74.96</td>\n",
       "    </tr>\n",
       "    <tr>\n",
       "      <th rowspan=\"2\" valign=\"top\">56</th>\n",
       "      <th>FROM DOWNTOWN</th>\n",
       "      <td>26351</td>\n",
       "      <td>34320</td>\n",
       "      <td>76.78</td>\n",
       "    </tr>\n",
       "    <tr>\n",
       "      <th>TO DOWNTOWN</th>\n",
       "      <td>22010</td>\n",
       "      <td>24630</td>\n",
       "      <td>89.36</td>\n",
       "    </tr>\n",
       "  </tbody>\n",
       "</table>\n",
       "</div>"
      ],
      "text/plain": [
       "                                 ADJUSTED_ONTIME_COUNT  TOTAL  OTP_PERCENT\n",
       "ROUTE_ABBR ROUTE_DIRECTION_NAME                                           \n",
       "3          FROM DOWNTOWN                         15447  22766        67.85\n",
       "           TO DOWNTOWN                           19069  22722        83.92\n",
       "7          FROM DOWNTOWN                          6542   9026        72.48\n",
       "           TO DOWNTOWN                            6875   8241        83.42\n",
       "22         FROM DOWNTOWN                         11008  12919        85.21\n",
       "           TO DOWNTOWN                           11484  12269        93.60\n",
       "23         FROM DOWNTOWN                         20646  23771        86.85\n",
       "           TO DOWNTOWN                           14491  15882        91.24\n",
       "50         FROM DOWNTOWN                         17788  21252        83.70\n",
       "           TO DOWNTOWN                           18521  21377        86.64\n",
       "52         FROM DOWNTOWN                         17399  25373        68.57\n",
       "           TO DOWNTOWN                           20337  23954        84.90\n",
       "55         FROM DOWNTOWN                         19233  29879        64.37\n",
       "           TO DOWNTOWN                           22847  30480        74.96\n",
       "56         FROM DOWNTOWN                         26351  34320        76.78\n",
       "           TO DOWNTOWN                           22010  24630        89.36"
      ]
     },
     "execution_count": 77,
     "metadata": {},
     "output_type": "execute_result"
    }
   ],
   "source": [
    "route['TOTAL'] = (route['ADJUSTED_ONTIME_COUNT'] + route['ADJUSTED_EARLY_COUNT'] + route['ADJUSTED_LATE_COUNT'])\n",
    "route['OTP_PERCENT'] = round((route['ADJUSTED_ONTIME_COUNT'] / route['TOTAL']) * 100, 2)\n",
    "route[['ADJUSTED_ONTIME_COUNT', 'TOTAL', 'OTP_PERCENT']]"
   ]
  },
  {
   "cell_type": "code",
   "execution_count": 79,
   "id": "9a8d6319-a975-4e66-beec-a5cec5f0ecf2",
   "metadata": {},
   "outputs": [],
   "source": [
    "routedf = pd.DataFrame(route)"
   ]
  },
  {
   "cell_type": "code",
   "execution_count": 97,
   "id": "c34f950d-aa49-488a-b67c-d572ed4d3c93",
   "metadata": {},
   "outputs": [
    {
     "data": {
      "text/html": [
       "<div>\n",
       "<style scoped>\n",
       "    .dataframe tbody tr th:only-of-type {\n",
       "        vertical-align: middle;\n",
       "    }\n",
       "\n",
       "    .dataframe tbody tr th {\n",
       "        vertical-align: top;\n",
       "    }\n",
       "\n",
       "    .dataframe thead th {\n",
       "        text-align: right;\n",
       "    }\n",
       "</style>\n",
       "<table border=\"1\" class=\"dataframe\">\n",
       "  <thead>\n",
       "    <tr style=\"text-align: right;\">\n",
       "      <th></th>\n",
       "      <th></th>\n",
       "      <th>ADJUSTED_ONTIME_COUNT</th>\n",
       "      <th>ADJUSTED_EARLY_COUNT</th>\n",
       "      <th>ADJUSTED_LATE_COUNT</th>\n",
       "      <th>TOTAL</th>\n",
       "      <th>OTP_PERCENT</th>\n",
       "    </tr>\n",
       "    <tr>\n",
       "      <th>ROUTE_ABBR</th>\n",
       "      <th>ROUTE_DIRECTION_NAME</th>\n",
       "      <th></th>\n",
       "      <th></th>\n",
       "      <th></th>\n",
       "      <th></th>\n",
       "      <th></th>\n",
       "    </tr>\n",
       "  </thead>\n",
       "  <tbody>\n",
       "    <tr>\n",
       "      <th rowspan=\"2\" valign=\"top\">3</th>\n",
       "      <th>FROM DOWNTOWN</th>\n",
       "      <td>15447</td>\n",
       "      <td>639</td>\n",
       "      <td>6680</td>\n",
       "      <td>22766</td>\n",
       "      <td>67.85</td>\n",
       "    </tr>\n",
       "    <tr>\n",
       "      <th>TO DOWNTOWN</th>\n",
       "      <td>19069</td>\n",
       "      <td>743</td>\n",
       "      <td>2910</td>\n",
       "      <td>22722</td>\n",
       "      <td>83.92</td>\n",
       "    </tr>\n",
       "    <tr>\n",
       "      <th rowspan=\"2\" valign=\"top\">7</th>\n",
       "      <th>FROM DOWNTOWN</th>\n",
       "      <td>6542</td>\n",
       "      <td>298</td>\n",
       "      <td>2186</td>\n",
       "      <td>9026</td>\n",
       "      <td>72.48</td>\n",
       "    </tr>\n",
       "    <tr>\n",
       "      <th>TO DOWNTOWN</th>\n",
       "      <td>6875</td>\n",
       "      <td>135</td>\n",
       "      <td>1231</td>\n",
       "      <td>8241</td>\n",
       "      <td>83.42</td>\n",
       "    </tr>\n",
       "    <tr>\n",
       "      <th rowspan=\"2\" valign=\"top\">22</th>\n",
       "      <th>FROM DOWNTOWN</th>\n",
       "      <td>11008</td>\n",
       "      <td>373</td>\n",
       "      <td>1538</td>\n",
       "      <td>12919</td>\n",
       "      <td>85.21</td>\n",
       "    </tr>\n",
       "    <tr>\n",
       "      <th>TO DOWNTOWN</th>\n",
       "      <td>11484</td>\n",
       "      <td>258</td>\n",
       "      <td>527</td>\n",
       "      <td>12269</td>\n",
       "      <td>93.60</td>\n",
       "    </tr>\n",
       "    <tr>\n",
       "      <th rowspan=\"2\" valign=\"top\">23</th>\n",
       "      <th>FROM DOWNTOWN</th>\n",
       "      <td>20646</td>\n",
       "      <td>629</td>\n",
       "      <td>2496</td>\n",
       "      <td>23771</td>\n",
       "      <td>86.85</td>\n",
       "    </tr>\n",
       "    <tr>\n",
       "      <th>TO DOWNTOWN</th>\n",
       "      <td>14491</td>\n",
       "      <td>657</td>\n",
       "      <td>734</td>\n",
       "      <td>15882</td>\n",
       "      <td>91.24</td>\n",
       "    </tr>\n",
       "    <tr>\n",
       "      <th rowspan=\"2\" valign=\"top\">50</th>\n",
       "      <th>FROM DOWNTOWN</th>\n",
       "      <td>17788</td>\n",
       "      <td>661</td>\n",
       "      <td>2803</td>\n",
       "      <td>21252</td>\n",
       "      <td>83.70</td>\n",
       "    </tr>\n",
       "    <tr>\n",
       "      <th>TO DOWNTOWN</th>\n",
       "      <td>18521</td>\n",
       "      <td>546</td>\n",
       "      <td>2310</td>\n",
       "      <td>21377</td>\n",
       "      <td>86.64</td>\n",
       "    </tr>\n",
       "    <tr>\n",
       "      <th rowspan=\"2\" valign=\"top\">52</th>\n",
       "      <th>FROM DOWNTOWN</th>\n",
       "      <td>17399</td>\n",
       "      <td>882</td>\n",
       "      <td>7092</td>\n",
       "      <td>25373</td>\n",
       "      <td>68.57</td>\n",
       "    </tr>\n",
       "    <tr>\n",
       "      <th>TO DOWNTOWN</th>\n",
       "      <td>20337</td>\n",
       "      <td>671</td>\n",
       "      <td>2946</td>\n",
       "      <td>23954</td>\n",
       "      <td>84.90</td>\n",
       "    </tr>\n",
       "    <tr>\n",
       "      <th rowspan=\"2\" valign=\"top\">55</th>\n",
       "      <th>FROM DOWNTOWN</th>\n",
       "      <td>19233</td>\n",
       "      <td>803</td>\n",
       "      <td>9843</td>\n",
       "      <td>29879</td>\n",
       "      <td>64.37</td>\n",
       "    </tr>\n",
       "    <tr>\n",
       "      <th>TO DOWNTOWN</th>\n",
       "      <td>22847</td>\n",
       "      <td>728</td>\n",
       "      <td>6905</td>\n",
       "      <td>30480</td>\n",
       "      <td>74.96</td>\n",
       "    </tr>\n",
       "    <tr>\n",
       "      <th rowspan=\"2\" valign=\"top\">56</th>\n",
       "      <th>FROM DOWNTOWN</th>\n",
       "      <td>26351</td>\n",
       "      <td>1006</td>\n",
       "      <td>6963</td>\n",
       "      <td>34320</td>\n",
       "      <td>76.78</td>\n",
       "    </tr>\n",
       "    <tr>\n",
       "      <th>TO DOWNTOWN</th>\n",
       "      <td>22010</td>\n",
       "      <td>746</td>\n",
       "      <td>1874</td>\n",
       "      <td>24630</td>\n",
       "      <td>89.36</td>\n",
       "    </tr>\n",
       "  </tbody>\n",
       "</table>\n",
       "</div>"
      ],
      "text/plain": [
       "                                 ADJUSTED_ONTIME_COUNT  ADJUSTED_EARLY_COUNT  \\\n",
       "ROUTE_ABBR ROUTE_DIRECTION_NAME                                                \n",
       "3          FROM DOWNTOWN                         15447                   639   \n",
       "           TO DOWNTOWN                           19069                   743   \n",
       "7          FROM DOWNTOWN                          6542                   298   \n",
       "           TO DOWNTOWN                            6875                   135   \n",
       "22         FROM DOWNTOWN                         11008                   373   \n",
       "           TO DOWNTOWN                           11484                   258   \n",
       "23         FROM DOWNTOWN                         20646                   629   \n",
       "           TO DOWNTOWN                           14491                   657   \n",
       "50         FROM DOWNTOWN                         17788                   661   \n",
       "           TO DOWNTOWN                           18521                   546   \n",
       "52         FROM DOWNTOWN                         17399                   882   \n",
       "           TO DOWNTOWN                           20337                   671   \n",
       "55         FROM DOWNTOWN                         19233                   803   \n",
       "           TO DOWNTOWN                           22847                   728   \n",
       "56         FROM DOWNTOWN                         26351                  1006   \n",
       "           TO DOWNTOWN                           22010                   746   \n",
       "\n",
       "                                 ADJUSTED_LATE_COUNT  TOTAL  OTP_PERCENT  \n",
       "ROUTE_ABBR ROUTE_DIRECTION_NAME                                           \n",
       "3          FROM DOWNTOWN                        6680  22766        67.85  \n",
       "           TO DOWNTOWN                          2910  22722        83.92  \n",
       "7          FROM DOWNTOWN                        2186   9026        72.48  \n",
       "           TO DOWNTOWN                          1231   8241        83.42  \n",
       "22         FROM DOWNTOWN                        1538  12919        85.21  \n",
       "           TO DOWNTOWN                           527  12269        93.60  \n",
       "23         FROM DOWNTOWN                        2496  23771        86.85  \n",
       "           TO DOWNTOWN                           734  15882        91.24  \n",
       "50         FROM DOWNTOWN                        2803  21252        83.70  \n",
       "           TO DOWNTOWN                          2310  21377        86.64  \n",
       "52         FROM DOWNTOWN                        7092  25373        68.57  \n",
       "           TO DOWNTOWN                          2946  23954        84.90  \n",
       "55         FROM DOWNTOWN                        9843  29879        64.37  \n",
       "           TO DOWNTOWN                          6905  30480        74.96  \n",
       "56         FROM DOWNTOWN                        6963  34320        76.78  \n",
       "           TO DOWNTOWN                          1874  24630        89.36  "
      ]
     },
     "execution_count": 97,
     "metadata": {},
     "output_type": "execute_result"
    }
   ],
   "source": [
    "routedf"
   ]
  },
  {
   "cell_type": "code",
   "execution_count": 99,
   "id": "52742527-47b2-4f86-9978-557ea5f58c96",
   "metadata": {},
   "outputs": [
    {
     "data": {
      "text/plain": [
       "<Axes: xlabel='ROUTE_DIRECTION_NAME', ylabel='OTP_PERCENT'>"
      ]
     },
     "execution_count": 99,
     "metadata": {},
     "output_type": "execute_result"
    },
    {
     "data": {
      "image/png": "[encoded data removed]",
      "text/plain": [
       "<Figure size 640x480 with 1 Axes>"
      ]
     },
     "metadata": {},
     "output_type": "display_data"
    }
   ],
   "source": [
    "sns.barplot(x = 'ROUTE_DIRECTION_NAME', y = 'OTP_PERCENT', data = routedf)"
   ]
  },
  {
   "cell_type": "code",
   "execution_count": 61,
   "id": "58225187-3ba8-49c0-89bf-51b58c38a4ba",
   "metadata": {},
   "outputs": [
    {
     "name": "stdout",
     "output_type": "stream",
     "text": [
      "Overall on-time performance is 77.08 %\n"
     ]
    },
    {
     "data": {
      "text/html": [
       "<div>\n",
       "<style scoped>\n",
       "    .dataframe tbody tr th:only-of-type {\n",
       "        vertical-align: middle;\n",
       "    }\n",
       "\n",
       "    .dataframe tbody tr th {\n",
       "        vertical-align: top;\n",
       "    }\n",
       "\n",
       "    .dataframe thead th {\n",
       "        text-align: right;\n",
       "    }\n",
       "</style>\n",
       "<table border=\"1\" class=\"dataframe\">\n",
       "  <thead>\n",
       "    <tr style=\"text-align: right;\">\n",
       "      <th></th>\n",
       "      <th>BLOCK_ABBR</th>\n",
       "      <th>on_time_count</th>\n",
       "      <th>percent_of_total</th>\n",
       "    </tr>\n",
       "  </thead>\n",
       "  <tbody>\n",
       "    <tr>\n",
       "      <th>0</th>\n",
       "      <td>5003</td>\n",
       "      <td>7134</td>\n",
       "      <td>2.04</td>\n",
       "    </tr>\n",
       "    <tr>\n",
       "      <th>1</th>\n",
       "      <td>2310</td>\n",
       "      <td>7002</td>\n",
       "      <td>2.00</td>\n",
       "    </tr>\n",
       "    <tr>\n",
       "      <th>2</th>\n",
       "      <td>5004</td>\n",
       "      <td>6884</td>\n",
       "      <td>1.97</td>\n",
       "    </tr>\n",
       "    <tr>\n",
       "      <th>3</th>\n",
       "      <td>300</td>\n",
       "      <td>6330</td>\n",
       "      <td>1.81</td>\n",
       "    </tr>\n",
       "    <tr>\n",
       "      <th>4</th>\n",
       "      <td>2311</td>\n",
       "      <td>6297</td>\n",
       "      <td>1.80</td>\n",
       "    </tr>\n",
       "    <tr>\n",
       "      <th>...</th>\n",
       "      <td>...</td>\n",
       "      <td>...</td>\n",
       "      <td>...</td>\n",
       "    </tr>\n",
       "    <tr>\n",
       "      <th>97</th>\n",
       "      <td>5094</td>\n",
       "      <td>37</td>\n",
       "      <td>0.01</td>\n",
       "    </tr>\n",
       "    <tr>\n",
       "      <th>98</th>\n",
       "      <td>5690</td>\n",
       "      <td>33</td>\n",
       "      <td>0.01</td>\n",
       "    </tr>\n",
       "    <tr>\n",
       "      <th>99</th>\n",
       "      <td>8401</td>\n",
       "      <td>32</td>\n",
       "      <td>0.01</td>\n",
       "    </tr>\n",
       "    <tr>\n",
       "      <th>100</th>\n",
       "      <td>8601</td>\n",
       "      <td>31</td>\n",
       "      <td>0.01</td>\n",
       "    </tr>\n",
       "    <tr>\n",
       "      <th>101</th>\n",
       "      <td>5590</td>\n",
       "      <td>14</td>\n",
       "      <td>0.00</td>\n",
       "    </tr>\n",
       "  </tbody>\n",
       "</table>\n",
       "<p>102 rows × 3 columns</p>\n",
       "</div>"
      ],
      "text/plain": [
       "     BLOCK_ABBR  on_time_count  percent_of_total\n",
       "0          5003           7134              2.04\n",
       "1          2310           7002              2.00\n",
       "2          5004           6884              1.97\n",
       "3           300           6330              1.81\n",
       "4          2311           6297              1.80\n",
       "..          ...            ...               ...\n",
       "97         5094             37              0.01\n",
       "98         5690             33              0.01\n",
       "99         8401             32              0.01\n",
       "100        8601             31              0.01\n",
       "101        5590             14              0.00\n",
       "\n",
       "[102 rows x 3 columns]"
      ]
     },
     "execution_count": 61,
     "metadata": {},
     "output_type": "execute_result"
    }
   ],
   "source": [
    "on_time_performance = wego[wego['ADJUSTED_ONTIME_COUNT'] == 1] # on-time rows\n",
    "on_time_performance_pct = round((len(on_time_performance) / len(wego)) * 100, 2) # overall ot performance pct\n",
    "print(\"Overall on-time performance is\", on_time_performance_pct, \"%\")\n",
    "block_count = on_time_performance['BLOCK_ABBR'].value_counts().reset_index()\n",
    "block_count.columns = ['BLOCK_ABBR', 'on_time_count']\n",
    "block_count = block_count.sort_values(by='on_time_count', ascending=False) # count on-time per block and calculate percent of total dataset\n",
    "block_count['percent_of_total'] = round((block_count['on_time_count'] / len(wego)) * 100, 2) # % of total col\n",
    "block_count"
   ]
  },
  {
   "cell_type": "code",
   "execution_count": null,
   "id": "38e8eb0b-b59c-4684-bf4f-d4fbbe994987",
   "metadata": {},
   "outputs": [],
   "source": []
  }
 ],
 "metadata": {
  "kernelspec": {
   "display_name": "Python [conda env:base] *",
   "language": "python",
   "name": "conda-base-py"
  },
  "language_info": {
   "codemirror_mode": {
    "name": "ipython",
    "version": 3
   },
   "file_extension": ".py",
   "mimetype": "text/x-python",
   "name": "python",
   "nbconvert_exporter": "python",
   "pygments_lexer": "ipython3",
   "version": "3.12.7"
  }
 },
 "nbformat": 4,
 "nbformat_minor": 5
}
